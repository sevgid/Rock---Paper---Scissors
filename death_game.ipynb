{
  "nbformat": 4,
  "nbformat_minor": 0,
  "metadata": {
    "colab": {
      "provenance": [],
      "authorship_tag": "ABX9TyO0Yp68FgUjgpY74/xFSoV8",
      "include_colab_link": true
    },
    "kernelspec": {
      "name": "python3",
      "display_name": "Python 3"
    },
    "language_info": {
      "name": "python"
    }
  },
  "cells": [
    {
      "cell_type": "markdown",
      "metadata": {
        "id": "view-in-github",
        "colab_type": "text"
      },
      "source": [
        "<a href=\"https://colab.research.google.com/github/sevgid/Rock---Paper---Scissors/blob/main/death_game.ipynb\" target=\"_parent\"><img src=\"https://colab.research.google.com/assets/colab-badge.svg\" alt=\"Open In Colab\"/></a>"
      ]
    },
    {
      "cell_type": "code",
      "execution_count": null,
      "metadata": {
        "id": "SRwf4tu5CQdx"
      },
      "outputs": [],
      "source": [
        "#Please create a list containing the three actions of the game.\n",
        "print(\"You're welcome dead baby ;)\",'\\n', \"We play a game with you ;)\" ,  \"The game entries are: \")\n",
        "game_list = [\"rock\", \"paper\", \"scissors\"]\n",
        "for choose in game_list:\n",
        "  print(choose)\n",
        "\n",
        "#Import the random library\n",
        "import random\n",
        "\n",
        "\n",
        "#Please ask the user how many rounds they want to play\n",
        "round_size = int(input(\"How many rounds you want to play?\"))\n",
        "\n",
        "#Scores of player\n",
        "player1_score = 0 \n",
        "player2_score = 0\n",
        "round_counter = 0\n",
        "\n",
        "while round_counter <= round_size : \n",
        "  player1 = random.choice(game_list)\n",
        "  player2 = str(input(\"*rock *paper *scissors\\n\" \"Which one do you choose to win? \"))\n",
        "\n",
        "  if player1 == player2:\n",
        "    print(\"Tie! Both players chose the same action.\" , \"Player1 selection: \" , player1)\n",
        "    player1_score += 0\n",
        "    player2_score += 0\n",
        "    print(\"Score balans: \", \"Player1 \" , player1_score , \"Player2 \" , player2_score)\n",
        "\n",
        "#2-Winning Conditions\n",
        "#Please add the conditional statements for the remaining combinations \n",
        "  elif player1 == \"rock\" and player2 == \"paper\":\n",
        "    print(\"PAPERRRR :) You're winner!\" ,'\\n', \"Player1 selection: \" , player1)\n",
        "    player1_score += 1\n",
        "    player2_score += 0\n",
        "    print(\"Score balans: \", \"Player1 \" , player1_score , \"Player2 \" , player2_score)\n",
        "    \n",
        "  elif player1 == \"rock\" and player2 == \"scissors\":\n",
        "    print(\"ROCKKKK :( You're loser!\" ,'\\n', \"Player1 selection: \" , player1)\n",
        "    player1_score += 0\n",
        "    player2_score += 1\n",
        "    print(\"Score balans: \", \"Player1 \" , player1_score , \"Player2 \" , player2_score)  \n",
        "\n",
        "  elif player1 == \"paper\" and player2 == \"rock\":\n",
        "    print(\"PAPERRRR :( You're loser!\" ,'\\n', \"Player1 selection: \" , player1)\n",
        "    player1_score += 0\n",
        "    player2_score += 1\n",
        "    print(\"Score balans: \", \"Player1 \" , player1_score , \"Player2 \" , player2_score) \n",
        "\n",
        "  elif player1 == \"paper\" and player2 == \"scissors\":\n",
        "    print(\"SCISSORSSSS :) You're winner!\" ,'\\n', \"Player1 selection: \" , player1)\n",
        "    player1_score += 1\n",
        "    player2_score += 0\n",
        "    print(\"Score balans: \", \"Player1 \" , player1_score , \"Player2 \" , player2_score) \n",
        "\n",
        "  elif player1 == \"scissors\" and player2 == \"rock\":\n",
        "    print(\"ROCKKKK :) You're winner!\" ,'\\n', \"Player1 selection: \" , player1)\n",
        "    player1_score += 1\n",
        "    player2_score += 0\n",
        "    print(\"Score balans: \", \"Player1 \" , player1_score , \"Player2 \" , player2_score) \n",
        "\n",
        "  elif player1 == \"scissors\" and player2 == \"paper\":\n",
        "    print(\"SCISSORSSSS :( You're loser!\" ,'\\n', \"Player1 selection: \" , player1)\n",
        "    player1_score += 0\n",
        "    player2_score += 1\n",
        "    print(\"Score balans: \", \"Player1 \" , player1_score , \"Player2 \" , player2_score) \n",
        "#scissors paper  scissors rock \n",
        "  round_counter += 1\n",
        "  if round_counter == round_size:\n",
        "    break\n",
        "\n",
        "if player1_score < player2_score:\n",
        "  print(\"my baby you are dead\")\n",
        "elif player1_score > player2_score:\n",
        "  print(\"sweety you killed me\")\n",
        "elif player1_score == player2_score:\n",
        "  print(\"we agreed, no killed\")\n",
        "#print(player1_score)\n"
      ]
    }
  ]
}